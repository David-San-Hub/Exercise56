{
 "cells": [
  {
   "cell_type": "code",
   "execution_count": null,
   "id": "c15358e5",
   "metadata": {},
   "outputs": [],
   "source": [
    "b=int(input('enter burger selling price:'))\n",
    "s=int(input('enter soda selling price:'))\n",
    "c=int(input('enter combo selling price:'))\n",
    "p= (b+s+c)-12\n",
    "print('the fixed price is $'+str(p)+'.00')"
   ]
  }
 ],
 "metadata": {
  "kernelspec": {
   "display_name": "Python 3 (ipykernel)",
   "language": "python",
   "name": "python3"
  },
  "language_info": {
   "codemirror_mode": {
    "name": "ipython",
    "version": 3
   },
   "file_extension": ".py",
   "mimetype": "text/x-python",
   "name": "python",
   "nbconvert_exporter": "python",
   "pygments_lexer": "ipython3",
   "version": "3.8.1"
  }
 },
 "nbformat": 4,
 "nbformat_minor": 5
}

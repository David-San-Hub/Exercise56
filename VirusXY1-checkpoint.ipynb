{
 "cells": [
  {
   "cell_type": "code",
   "execution_count": 1,
   "id": "df619a74",
   "metadata": {},
   "outputs": [
    {
     "name": "stdout",
     "output_type": "stream",
     "text": [
      "enter the point of px:0\n",
      "enter the point of py:0\n",
      "enter the point of qx:1\n",
      "enter the point of qy:1\n",
      "the point of r: (2, 2)\n"
     ]
    }
   ],
   "source": [
    "px= int(input('enter the point of px:'))\n",
    "py= int(input('enter the point of py:'))\n",
    "qx= int(input('enter the point of qx:'))\n",
    "qy= int(input('enter the point of qy:'))\n",
    "rx= (px+qx)+qx\n",
    "ry= (py+qy)+qy\n",
    "r=(rx, ry)\n",
    "print(\"the point of r:\", r)"
   ]
  },
  {
   "cell_type": "code",
   "execution_count": null,
   "id": "0947b5f9",
   "metadata": {},
   "outputs": [],
   "source": []
  }
 ],
 "metadata": {
  "kernelspec": {
   "display_name": "Python 3 (ipykernel)",
   "language": "python",
   "name": "python3"
  },
  "language_info": {
   "codemirror_mode": {
    "name": "ipython",
    "version": 3
   },
   "file_extension": ".py",
   "mimetype": "text/x-python",
   "name": "python",
   "nbconvert_exporter": "python",
   "pygments_lexer": "ipython3",
   "version": "3.8.1"
  }
 },
 "nbformat": 4,
 "nbformat_minor": 5
}
